{
 "cells": [
  {
   "cell_type": "code",
   "execution_count": 1,
   "metadata": {
    "collapsed": true
   },
   "outputs": [],
   "source": [
    "from __future__ import absolute_import\n",
    "from __future__ import division\n",
    "from __future__ import print_function\n",
    "\n",
    "import collections\n",
    "import math\n",
    "import os\n",
    "import random\n",
    "import zipfile\n",
    "\n",
    "import numpy as np\n",
    "from six.moves import urllib\n",
    "from six.moves import xrange  # pylint: disable=redefined-builtin\n",
    "import tensorflow as tf"
   ]
  },
  {
   "cell_type": "markdown",
   "metadata": {},
   "source": [
    "# Step 1: Download the data."
   ]
  },
  {
   "cell_type": "code",
   "execution_count": 2,
   "metadata": {
    "collapsed": true
   },
   "outputs": [],
   "source": [
    "url = 'http://mattmahoney.net/dc/'"
   ]
  },
  {
   "cell_type": "code",
   "execution_count": 3,
   "metadata": {},
   "outputs": [
    {
     "name": "stdout",
     "output_type": "stream",
     "text": [
      "Found and verified text8.zip\n"
     ]
    }
   ],
   "source": [
    "def maybe_download(filename, expected_bytes):\n",
    "  \"\"\"Download a file if not present, and make sure it's the right size.\"\"\"\n",
    "  if not os.path.exists(filename):\n",
    "    filename, _ = urllib.request.urlretrieve(url + filename, filename)\n",
    "  statinfo = os.stat(filename)\n",
    "  if statinfo.st_size == expected_bytes:\n",
    "    print('Found and verified', filename)\n",
    "  else:\n",
    "    print(statinfo.st_size)\n",
    "    raise Exception(\n",
    "        'Failed to verify ' + filename + '. Can you get to it with a browser?')\n",
    "  return filename\n",
    "\n",
    "filename = maybe_download('text8.zip', 31344016)"
   ]
  },
  {
   "cell_type": "markdown",
   "metadata": {},
   "source": [
    "# Read the data into a list of strings."
   ]
  },
  {
   "cell_type": "code",
   "execution_count": 5,
   "metadata": {},
   "outputs": [
    {
     "name": "stdout",
     "output_type": "stream",
     "text": [
      "Data size 17005207\n"
     ]
    }
   ],
   "source": [
    "def read_data(filename):\n",
    "  \"\"\"Extract the first file enclosed in a zip file as a list of words\"\"\"\n",
    "  with zipfile.ZipFile(filename) as f:\n",
    "    data = tf.compat.as_str(f.read(f.namelist()[0])).split()\n",
    "  return data\n",
    "\n",
    "words = read_data(filename)\n",
    "print('Data size', len(words))\n",
    "\n",
    "# Step 2: Build the dictionary and replace rare words with UNK token.\n",
    "vocabulary_size = 50000"
   ]
  },
  {
   "cell_type": "code",
   "execution_count": 6,
   "metadata": {},
   "outputs": [
    {
     "name": "stdout",
     "output_type": "stream",
     "text": [
      "Most common words (+UNK) [['UNK', 418391], ('the', 1061396), ('of', 593677), ('and', 416629), ('one', 411764)]\n",
      "Sample data [5239, 3084, 12, 6, 195, 2, 3137, 46, 59, 156] ['anarchism', 'originated', 'as', 'a', 'term', 'of', 'abuse', 'first', 'used', 'against']\n"
     ]
    }
   ],
   "source": [
    "def build_dataset(words, vocabulary_size):\n",
    "  count = [['UNK', -1]]\n",
    "  count.extend(collections.Counter(words).most_common(vocabulary_size - 1))\n",
    "  dictionary = dict()\n",
    "  for word, _ in count:\n",
    "    dictionary[word] = len(dictionary)\n",
    "  data = list()\n",
    "  unk_count = 0\n",
    "  for word in words:\n",
    "    if word in dictionary:\n",
    "      index = dictionary[word]\n",
    "    else:\n",
    "      index = 0  # dictionary['UNK']\n",
    "      unk_count += 1\n",
    "    data.append(index)\n",
    "  count[0][1] = unk_count\n",
    "  reverse_dictionary = dict(zip(dictionary.values(), dictionary.keys()))\n",
    "  return data, count, dictionary, reverse_dictionary\n",
    "\n",
    "data, count, dictionary, reverse_dictionary = build_dataset(words, vocabulary_size)\n",
    "del words  # Hint to reduce memory.\n",
    "print('Most common words (+UNK)', count[:5])\n",
    "print('Sample data', data[:10], [reverse_dictionary[i] for i in data[:10]])\n",
    "\n",
    "data_index = 0"
   ]
  },
  {
   "cell_type": "markdown",
   "metadata": {},
   "source": [
    "# Step 3: Function to generate a training batch for the skip-gram model."
   ]
  },
  {
   "cell_type": "code",
   "execution_count": 7,
   "metadata": {},
   "outputs": [
    {
     "name": "stdout",
     "output_type": "stream",
     "text": [
      "3084 originated -> 5239 anarchism\n",
      "3084 originated -> 12 as\n",
      "12 as -> 6 a\n",
      "12 as -> 3084 originated\n",
      "6 a -> 195 term\n",
      "6 a -> 12 as\n",
      "195 term -> 6 a\n",
      "195 term -> 2 of\n"
     ]
    }
   ],
   "source": [
    "def generate_batch(batch_size, num_skips, skip_window):\n",
    "  global data_index\n",
    "  assert batch_size % num_skips == 0\n",
    "  assert num_skips <= 2 * skip_window\n",
    "  batch = np.ndarray(shape=(batch_size), dtype=np.int32)\n",
    "  labels = np.ndarray(shape=(batch_size, 1), dtype=np.int32)\n",
    "  span = 2 * skip_window + 1  # [ skip_window target skip_window ]\n",
    "  buffer = collections.deque(maxlen=span)\n",
    "  for _ in range(span):\n",
    "    buffer.append(data[data_index])\n",
    "    data_index = (data_index + 1) % len(data)\n",
    "  for i in range(batch_size // num_skips):\n",
    "    target = skip_window  # target label at the center of the buffer\n",
    "    targets_to_avoid = [skip_window]\n",
    "    for j in range(num_skips):\n",
    "      while target in targets_to_avoid:\n",
    "        target = random.randint(0, span - 1)\n",
    "      targets_to_avoid.append(target)\n",
    "      batch[i * num_skips + j] = buffer[skip_window]\n",
    "      labels[i * num_skips + j, 0] = buffer[target]\n",
    "    buffer.append(data[data_index])\n",
    "    data_index = (data_index + 1) % len(data)\n",
    "  # Backtrack a little bit to avoid skipping words in the end of a batch\n",
    "  data_index = (data_index + len(data) - span) % len(data)\n",
    "  return batch, labels\n",
    "\n",
    "batch, labels = generate_batch(batch_size=8, num_skips=2, skip_window=1)\n",
    "for i in range(8):\n",
    "  print(batch[i], reverse_dictionary[batch[i]],\n",
    "        '->', labels[i, 0], reverse_dictionary[labels[i, 0]])"
   ]
  },
  {
   "cell_type": "markdown",
   "metadata": {},
   "source": [
    "# Step 4: Build and train a skip-gram model."
   ]
  },
  {
   "cell_type": "code",
   "execution_count": 9,
   "metadata": {
    "collapsed": true
   },
   "outputs": [],
   "source": [
    "batch_size = 128\n",
    "embedding_size = 128  # Dimension of the embedding vector.\n",
    "skip_window = 1       # How many words to consider left and right.\n",
    "num_skips = 2         # How many times to reuse an input to generate a label."
   ]
  },
  {
   "cell_type": "markdown",
   "metadata": {},
   "source": [
    " We pick a random validation set to sample nearest neighbors. Here we limit the\n",
    " validation samples to the words that have a low numeric ID, which by\n",
    " construction are also the most frequent."
   ]
  },
  {
   "cell_type": "code",
   "execution_count": 10,
   "metadata": {
    "collapsed": true
   },
   "outputs": [],
   "source": [
    "valid_size = 16     # Random set of words to evaluate similarity on.\n",
    "valid_window = 100  # Only pick dev samples in the head of the distribution.\n",
    "valid_examples = np.random.choice(valid_window, valid_size, replace=False)\n",
    "num_sampled = 64    # Number of negative examples to sample."
   ]
  },
  {
   "cell_type": "code",
   "execution_count": 11,
   "metadata": {
    "collapsed": true
   },
   "outputs": [],
   "source": [
    "graph = tf.Graph()"
   ]
  },
  {
   "cell_type": "code",
   "execution_count": 12,
   "metadata": {
    "collapsed": true
   },
   "outputs": [],
   "source": [
    "with graph.as_default():\n",
    "\n",
    "  # Input data.\n",
    "  train_inputs = tf.placeholder(tf.int32, shape=[batch_size])\n",
    "  train_labels = tf.placeholder(tf.int32, shape=[batch_size, 1])\n",
    "  valid_dataset = tf.constant(valid_examples, dtype=tf.int32)\n",
    "\n",
    "  # Ops and variables pinned to the CPU because of missing GPU implementation\n",
    "  with tf.device('/cpu:0'):\n",
    "    # Look up embeddings for inputs.\n",
    "    embeddings = tf.Variable(\n",
    "        tf.random_uniform([vocabulary_size, embedding_size], -1.0, 1.0))\n",
    "    embed = tf.nn.embedding_lookup(embeddings, train_inputs)\n",
    "\n",
    "    # Construct the variables for the NCE loss\n",
    "    nce_weights = tf.Variable(\n",
    "        tf.truncated_normal([vocabulary_size, embedding_size],\n",
    "                            stddev=1.0 / math.sqrt(embedding_size)))\n",
    "    nce_biases = tf.Variable(tf.zeros([vocabulary_size]))\n",
    "\n",
    "  # Compute the average NCE loss for the batch.\n",
    "  # tf.nce_loss automatically draws a new sample of the negative labels each\n",
    "  # time we evaluate the loss.\n",
    "  loss = tf.reduce_mean(\n",
    "      tf.nn.nce_loss(weights=nce_weights,\n",
    "                     biases=nce_biases,\n",
    "                     labels=train_labels,\n",
    "                     inputs=embed,\n",
    "                     num_sampled=num_sampled,\n",
    "                     num_classes=vocabulary_size))\n",
    "\n",
    "  # Construct the SGD optimizer using a learning rate of 1.0.\n",
    "  optimizer = tf.train.GradientDescentOptimizer(1.0).minimize(loss)\n",
    "\n",
    "  # Compute the cosine similarity between minibatch examples and all embeddings.\n",
    "  norm = tf.sqrt(tf.reduce_sum(tf.square(embeddings), 1, keep_dims=True))\n",
    "  normalized_embeddings = embeddings / norm\n",
    "  valid_embeddings = tf.nn.embedding_lookup(\n",
    "      normalized_embeddings, valid_dataset)\n",
    "  similarity = tf.matmul(\n",
    "      valid_embeddings, normalized_embeddings, transpose_b=True)\n",
    "\n",
    "  # Add variable initializer.\n",
    "  init = tf.global_variables_initializer()\n",
    "\n",
    "# Step 5: Begin training.\n",
    "num_steps = 100001"
   ]
  },
  {
   "cell_type": "code",
   "execution_count": 13,
   "metadata": {},
   "outputs": [
    {
     "name": "stdout",
     "output_type": "stream",
     "text": [
      "Initialized\n",
      "Average loss at step  0 :  292.801605225\n",
      "Nearest to that: bertolucci, donating, gujarati, hydrocarbons, infix, bubbles, horns, windy,\n",
      "Nearest to so: cash, papier, generalizations, berthold, unwilling, deduces, your, honors,\n",
      "Nearest to history: sturgis, amplified, eb, heterogeneous, olwen, summoning, thermally, congenital,\n",
      "Nearest to two: badge, storytelling, fachhochschule, snapshots, vannevar, flywheels, earthman, understandable,\n",
      "Nearest to also: zhaozhou, impassable, archie, mutation, jazz, subsidy, palette, bmj,\n",
      "Nearest to often: kilns, trade, populous, extensively, cosmos, guillotine, shmuel, trot,\n",
      "Nearest to the: girardeau, fortune, fanaticism, novgorod, flowered, mbe, piast, certainty,\n",
      "Nearest to can: disconnect, mice, anzac, lowest, houses, cantons, stevens, distress,\n",
      "Nearest to will: picnics, cps, ihra, sanguine, lada, peaceful, hada, odin,\n",
      "Nearest to was: spalding, uwe, depths, dict, learners, out, subspace, aspiring,\n",
      "Nearest to such: extracting, assertions, routers, reznor, gloucester, indictees, altruists, aphorisms,\n",
      "Nearest to known: prairie, moltke, madhya, cavalli, acr, aml, capacitor, coretta,\n",
      "Nearest to d: seventeenth, bump, triton, pausanias, satie, negus, dagome, spirited,\n",
      "Nearest to people: destabilization, demonym, talks, beano, buffering, fiedler, monarchic, tactile,\n",
      "Nearest to who: petty, fetuses, delaney, ruptured, lucretia, herds, cyclonic, levites,\n",
      "Nearest to by: mackaye, addressed, gut, tigris, tilt, capitulated, unimaginable, westernized,\n",
      "Average loss at step  2000 :  113.058815758\n",
      "Average loss at step  4000 :  52.8828827076\n",
      "Average loss at step  6000 :  33.0783550303\n",
      "Average loss at step  8000 :  23.7334383339\n",
      "Average loss at step  10000 :  17.8119534142\n",
      "Nearest to that: but, ep, piazzi, movement, falls, sides, setting, mathbf,\n",
      "Nearest to so: cash, generalizations, your, archie, additionally, systematic, honors, unwilling,\n",
      "Nearest to history: entry, bckgr, reduce, honorary, crime, tells, finance, astronomical,\n",
      "Nearest to two: one, six, nine, three, jpg, five, zero, defect,\n",
      "Nearest to also: archie, radar, adapted, and, eternal, headquarters, topped, hackett,\n",
      "Nearest to often: extensively, trade, populous, not, injury, jumbo, kilns, export,\n",
      "Nearest to the: a, his, UNK, bckgr, and, its, archie, one,\n",
      "Nearest to can: lowest, anzac, mice, stevens, vs, houses, archie, triple,\n",
      "Nearest to will: archie, mathbf, peaceful, colonel, combined, leadership, obey, childhood,\n",
      "Nearest to was: is, in, and, were, by, ninety, commerce, quantity,\n",
      "Nearest to such: extracting, altruists, results, gods, pedro, assertions, regarded, mosque,\n",
      "Nearest to known: wodehouse, bckgr, prairie, pieces, library, methods, harm, divided,\n",
      "Nearest to d: seventeenth, satie, spacecraft, refrigerator, gland, spirited, sadr, mystic,\n",
      "Nearest to people: alien, bckgr, ptolemy, rifle, talks, effectively, brian, uniform,\n",
      "Nearest to who: levites, fetuses, current, petty, marrying, creatures, yearly, mya,\n",
      "Nearest to by: and, as, addressed, in, with, was, archie, sugars,\n",
      "Average loss at step  12000 :  14.1738286481\n",
      "Average loss at step  14000 :  11.8283039832\n",
      "Average loss at step  16000 :  9.96376735342\n",
      "Average loss at step  18000 :  8.41793224454\n",
      "Average loss at step  20000 :  7.93696673524\n",
      "Nearest to that: but, dasyprocta, and, agouti, champions, teens, ep, piazzi,\n",
      "Nearest to so: cash, generalizations, your, slopes, archie, unwilling, dasyprocta, additionally,\n",
      "Nearest to history: entry, circ, dasyprocta, bckgr, finance, condorcet, observation, xbox,\n",
      "Nearest to two: one, three, dasyprocta, six, five, agouti, four, nine,\n",
      "Nearest to also: archie, and, which, dasyprocta, topped, radar, eternal, adapted,\n",
      "Nearest to often: extensively, not, trade, populous, it, dasyprocta, operatorname, hello,\n",
      "Nearest to the: a, his, one, circ, dasyprocta, its, this, their,\n",
      "Nearest to can: lowest, should, anzac, and, may, triple, though, are,\n",
      "Nearest to will: archie, dasyprocta, should, mathbf, peaceful, obey, cartier, colonel,\n",
      "Nearest to was: is, were, by, dasyprocta, are, in, has, as,\n",
      "Nearest to such: well, extracting, regarded, results, epistles, assertions, pedro, altruists,\n",
      "Nearest to known: bckgr, wodehouse, prairie, subkey, a, pieces, and, acacia,\n",
      "Nearest to d: b, satie, and, spacecraft, dasyprocta, UNK, seventeenth, harvey,\n",
      "Nearest to people: alien, peptide, bckgr, dasyprocta, talks, rifle, brian, swing,\n",
      "Nearest to who: levites, he, dasyprocta, subkey, current, fetuses, and, petty,\n",
      "Nearest to by: was, in, with, as, for, is, and, dasyprocta,\n",
      "Average loss at step  22000 :  7.09294115734\n",
      "Average loss at step  24000 :  6.97303315866\n",
      "Average loss at step  26000 :  6.75998643899\n",
      "Average loss at step  28000 :  6.40815207279\n",
      "Average loss at step  30000 :  5.94170513368\n",
      "Nearest to that: which, dasyprocta, but, agouti, this, champions, ep, amalthea,\n",
      "Nearest to so: cash, endowment, slopes, generalizations, your, systematic, archie, dasyprocta,\n",
      "Nearest to history: entry, amalthea, circ, dasyprocta, warp, xbox, bckgr, observation,\n",
      "Nearest to two: three, four, six, one, five, eight, dasyprocta, zero,\n",
      "Nearest to also: which, archie, dasyprocta, and, topped, six, agouti, sometimes,\n",
      "Nearest to often: extensively, not, it, trade, dasyprocta, populous, hello, operatorname,\n",
      "Nearest to the: its, his, circ, a, their, agouti, this, dasyprocta,\n",
      "Nearest to can: should, may, lowest, though, to, triple, anzac, sink,\n",
      "Nearest to will: should, archie, dasyprocta, arthropod, could, obey, cartier, peaceful,\n",
      "Nearest to was: is, were, by, has, dasyprocta, had, are, when,\n",
      "Nearest to such: well, regarded, artwork, extracting, assertions, carbon, results, bec,\n",
      "Nearest to known: subkey, wodehouse, prairie, bckgr, pieces, it, a, cults,\n",
      "Nearest to d: b, and, satie, bump, spacecraft, one, dasyprocta, sanhedrin,\n",
      "Nearest to people: peptide, bckgr, dasyprocta, talks, alien, demonym, rifle, swing,\n",
      "Nearest to who: he, and, levites, subkey, dasyprocta, hansen, abet, current,\n",
      "Nearest to by: in, with, was, as, for, from, agouti, dasyprocta,\n",
      "Average loss at step  32000 :  6.00506723571\n",
      "Average loss at step  34000 :  5.7416570853\n",
      "Average loss at step  36000 :  5.75375780118\n",
      "Average loss at step  38000 :  5.52580489194\n",
      "Average loss at step  40000 :  5.25595903522\n",
      "Nearest to that: which, this, but, dasyprocta, agouti, what, it, teens,\n",
      "Nearest to so: cash, endowment, slopes, generalizations, systematic, your, berthold, dasyprocta,\n",
      "Nearest to history: entry, amalthea, dasyprocta, circ, bluegrass, xbox, bckgr, portion,\n",
      "Nearest to two: three, four, one, six, five, eight, dasyprocta, seven,\n",
      "Nearest to also: which, archie, dasyprocta, topped, sometimes, often, that, and,\n",
      "Nearest to often: not, extensively, also, it, there, dasyprocta, trade, populous,\n",
      "Nearest to the: circ, his, its, otimes, dasyprocta, agouti, amalthea, their,\n",
      "Nearest to can: may, should, would, could, will, disconnect, to, must,\n",
      "Nearest to will: should, could, can, may, to, arthropod, dasyprocta, archie,\n",
      "Nearest to was: is, were, has, by, had, dasyprocta, became, when,\n",
      "Nearest to such: well, artwork, regarded, governorates, bec, extracting, assertions, carbon,\n",
      "Nearest to known: prairie, subkey, wodehouse, pieces, bckgr, cults, such, abilities,\n",
      "Nearest to d: b, bump, satie, and, spacecraft, UNK, sanhedrin, p,\n",
      "Nearest to people: bckgr, cameron, dasyprocta, talks, peptide, rifle, demonym, snowball,\n",
      "Nearest to who: he, which, subkey, levites, dasyprocta, that, hansen, and,\n",
      "Nearest to by: was, in, with, dasyprocta, as, agouti, from, frying,\n",
      "Average loss at step  42000 :  5.36937525928\n",
      "Average loss at step  44000 :  5.22707490194\n",
      "Average loss at step  46000 :  5.23607869101\n",
      "Average loss at step  48000 :  5.24305676413\n",
      "Average loss at step  50000 :  5.01191676307\n",
      "Nearest to that: which, this, dasyprocta, but, what, agouti, teens, champions,\n",
      "Nearest to so: cash, endowment, generalizations, slopes, systematic, your, berthold, dasyprocta,\n",
      "Nearest to history: entry, amalthea, dasyprocta, circ, portion, bckgr, warp, xbox,\n",
      "Nearest to two: three, four, one, six, five, seven, eight, dasyprocta,\n",
      "Nearest to also: which, often, sometimes, roshan, topped, archie, dasyprocta, never,\n",
      "Nearest to often: not, also, extensively, there, it, still, dasyprocta, akimbo,\n",
      "Nearest to the: his, their, circ, its, this, agouti, otimes, a,\n",
      "Nearest to can: may, should, would, will, could, must, to, disconnect,\n",
      "Nearest to will: can, should, could, may, would, must, to, dasyprocta,\n",
      "Nearest to was: is, were, has, had, by, dasyprocta, became, eight,\n",
      "Nearest to such: well, artwork, these, regarded, bec, governorates, carbon, extracting,\n",
      "Nearest to known: subkey, prairie, wodehouse, bckgr, pieces, such, cults, far,\n",
      "Nearest to d: b, bump, p, spacecraft, satie, sanhedrin, and, five,\n",
      "Nearest to people: dasyprocta, bckgr, cameron, snowball, talks, desires, rifle, peptide,\n",
      "Nearest to who: he, which, and, subkey, presbyterianism, she, also, they,\n",
      "Nearest to by: was, as, agouti, with, dasyprocta, in, for, from,\n"
     ]
    },
    {
     "name": "stdout",
     "output_type": "stream",
     "text": [
      "Average loss at step  52000 :  5.04254904366\n",
      "Average loss at step  54000 :  5.1940491401\n",
      "Average loss at step  56000 :  5.06091365075\n",
      "Average loss at step  58000 :  5.05182664835\n",
      "Average loss at step  60000 :  4.94389136779\n",
      "Nearest to that: which, this, but, what, dasyprocta, agouti, teens, aveiro,\n",
      "Nearest to so: endowment, cash, systematic, slopes, generalizations, dasyprocta, archie, your,\n",
      "Nearest to history: pulau, dasyprocta, entry, amalthea, warp, circ, portion, confusingly,\n",
      "Nearest to two: three, four, one, six, five, dasyprocta, seven, eight,\n",
      "Nearest to also: which, sometimes, often, archie, dasyprocta, roshan, topped, never,\n",
      "Nearest to often: not, also, still, there, extensively, commonly, it, dasyprocta,\n",
      "Nearest to the: its, circ, pulau, their, agouti, his, otimes, a,\n",
      "Nearest to can: may, should, would, will, could, must, disconnect, to,\n",
      "Nearest to will: can, should, could, may, would, must, to, dasyprocta,\n",
      "Nearest to was: is, were, had, has, by, became, been, dasyprocta,\n",
      "Nearest to such: well, these, artwork, regarded, many, bec, known, governorates,\n",
      "Nearest to known: subkey, such, wodehouse, prairie, bckgr, budweiser, far, cults,\n",
      "Nearest to d: b, bump, satie, p, spacecraft, sanhedrin, bugtraq, seventeenth,\n",
      "Nearest to people: beano, cameron, dasyprocta, bckgr, three, peptide, two, snowball,\n",
      "Nearest to who: he, which, that, they, presbyterianism, she, also, subkey,\n",
      "Nearest to by: was, as, agouti, under, dasyprocta, with, for, be,\n",
      "Average loss at step  62000 :  4.99144903362\n",
      "Average loss at step  64000 :  4.8386807062\n",
      "Average loss at step  66000 :  4.63087720478\n",
      "Average loss at step  68000 :  4.9855625937\n",
      "Average loss at step  70000 :  4.88489997387\n",
      "Nearest to that: which, this, what, dasyprocta, but, agouti, however, ursus,\n",
      "Nearest to so: endowment, cash, systematic, mico, dasyprocta, slopes, archie, generalizations,\n",
      "Nearest to history: pulau, entry, dasyprocta, amalthea, circ, portion, bckgr, michelob,\n",
      "Nearest to two: three, four, six, five, one, seven, eight, microcebus,\n",
      "Nearest to also: which, often, sometimes, never, roshan, archie, now, topped,\n",
      "Nearest to often: still, also, commonly, not, there, usually, sometimes, extensively,\n",
      "Nearest to the: its, circ, their, his, microbats, agouti, a, this,\n",
      "Nearest to can: may, would, should, will, could, must, to, nine,\n",
      "Nearest to will: can, could, should, would, may, must, to, dasyprocta,\n",
      "Nearest to was: is, were, had, has, became, by, dasyprocta, when,\n",
      "Nearest to such: well, these, regarded, artwork, known, many, bec, carbon,\n",
      "Nearest to known: such, subkey, used, wodehouse, prairie, budweiser, reputation, bckgr,\n",
      "Nearest to d: b, p, bump, spacecraft, satie, UNK, sanhedrin, bugtraq,\n",
      "Nearest to people: beano, dasyprocta, bckgr, cameron, snowball, clo, opportunities, demonym,\n",
      "Nearest to who: he, which, they, presbyterianism, she, susima, there, subkey,\n",
      "Nearest to by: was, under, agouti, as, be, with, dasyprocta, kapoor,\n",
      "Average loss at step  72000 :  4.77145533383\n",
      "Average loss at step  74000 :  4.7944086374\n",
      "Average loss at step  76000 :  4.71066260529\n",
      "Average loss at step  78000 :  4.80699626249\n",
      "Average loss at step  80000 :  4.79421878493\n",
      "Nearest to that: which, this, what, dasyprocta, but, agouti, however, iit,\n",
      "Nearest to so: endowment, cash, systematic, mico, generalizations, slopes, berthold, dasyprocta,\n",
      "Nearest to history: pulau, craps, amalthea, dasyprocta, portion, entry, confusingly, bckgr,\n",
      "Nearest to two: three, four, six, five, seven, one, eight, microcebus,\n",
      "Nearest to also: sometimes, which, often, now, never, roshan, usually, archie,\n",
      "Nearest to often: still, commonly, also, sometimes, not, usually, now, there,\n",
      "Nearest to the: their, circ, its, pulau, his, a, agouti, any,\n",
      "Nearest to can: may, would, will, should, could, must, might, cannot,\n",
      "Nearest to will: can, could, would, may, should, must, to, cannot,\n",
      "Nearest to was: is, has, had, were, became, by, dasyprocta, michelob,\n",
      "Nearest to such: well, these, many, known, regarded, artwork, carbon, bec,\n",
      "Nearest to known: such, used, subkey, prairie, wodehouse, budweiser, cfm, reputation,\n",
      "Nearest to d: b, p, satie, bump, UNK, spacecraft, sanhedrin, r,\n",
      "Nearest to people: cameron, beano, dasyprocta, bckgr, demonym, snowball, pharaohs, opportunities,\n",
      "Nearest to who: he, which, they, she, susima, presbyterianism, subkey, there,\n",
      "Nearest to by: under, was, with, agouti, in, be, from, dasyprocta,\n",
      "Average loss at step  82000 :  4.7620658319\n",
      "Average loss at step  84000 :  4.75666815865\n",
      "Average loss at step  86000 :  4.77930116212\n",
      "Average loss at step  88000 :  4.7402773416\n",
      "Average loss at step  90000 :  4.73519522488\n",
      "Nearest to that: which, what, but, this, however, dasyprocta, agouti, superhuman,\n",
      "Nearest to so: endowment, cash, systematic, mico, dasyprocta, slopes, generalizations, archie,\n",
      "Nearest to history: pulau, amalthea, craps, portion, dasyprocta, bckgr, michelob, circ,\n",
      "Nearest to two: three, four, five, one, six, seven, eight, microcebus,\n",
      "Nearest to also: sometimes, which, often, now, roshan, never, topped, inhibit,\n",
      "Nearest to often: commonly, still, sometimes, usually, also, not, now, there,\n",
      "Nearest to the: its, their, a, circ, this, his, otimes, agouti,\n",
      "Nearest to can: may, will, would, should, could, must, might, to,\n",
      "Nearest to will: can, would, could, may, should, must, to, cannot,\n",
      "Nearest to was: is, has, had, were, became, by, been, be,\n",
      "Nearest to such: well, these, known, many, regarded, artwork, bec, carbon,\n",
      "Nearest to known: used, such, subkey, wodehouse, prairie, budweiser, reputation, cfm,\n",
      "Nearest to d: b, p, UNK, six, satie, bump, spacecraft, r,\n",
      "Nearest to people: cameron, beano, bckgr, dasyprocta, demonym, opportunities, snowball, pharaohs,\n",
      "Nearest to who: he, they, which, she, susima, that, and, presbyterianism,\n",
      "Nearest to by: was, under, with, agouti, as, dasyprocta, were, kapoor,\n",
      "Average loss at step  92000 :  4.68145433939\n",
      "Average loss at step  94000 :  4.73318693519\n",
      "Average loss at step  96000 :  4.69755153179\n",
      "Average loss at step  98000 :  4.57655510283\n",
      "Average loss at step  100000 :  4.70155636191\n",
      "Nearest to that: which, what, this, however, but, dasyprocta, agouti, also,\n",
      "Nearest to so: endowment, cash, systematic, mico, dasyprocta, then, generalizations, pontificia,\n",
      "Nearest to history: pulau, craps, amalthea, dasyprocta, bckgr, michelob, circ, portion,\n",
      "Nearest to two: three, four, five, six, seven, one, eight, circ,\n",
      "Nearest to also: sometimes, often, which, now, never, roshan, dawkins, topped,\n",
      "Nearest to often: commonly, still, usually, sometimes, also, not, now, there,\n",
      "Nearest to the: circ, its, their, a, this, his, agouti, pulau,\n",
      "Nearest to can: may, will, would, could, should, must, might, cannot,\n",
      "Nearest to will: can, would, could, may, should, must, to, cannot,\n",
      "Nearest to was: is, had, has, were, became, by, been, dasyprocta,\n",
      "Nearest to such: well, these, known, many, regarded, artwork, bec, derogatory,\n",
      "Nearest to known: such, used, subkey, prairie, wodehouse, budweiser, reputation, cfm,\n",
      "Nearest to d: b, p, six, r, bump, UNK, satie, microcebus,\n",
      "Nearest to people: cameron, dasyprocta, beano, bckgr, pharaohs, peacocks, demonym, troops,\n",
      "Nearest to who: he, they, which, she, susima, presbyterianism, also, that,\n",
      "Nearest to by: under, was, agouti, with, kapoor, dasyprocta, as, be,\n"
     ]
    }
   ],
   "source": [
    "with tf.Session(graph=graph) as session:\n",
    "  # We must initialize all variables before we use them.\n",
    "  init.run()\n",
    "  print(\"Initialized\")\n",
    "\n",
    "  average_loss = 0\n",
    "  for step in xrange(num_steps):\n",
    "    batch_inputs, batch_labels = generate_batch(\n",
    "        batch_size, num_skips, skip_window)\n",
    "    feed_dict = {train_inputs: batch_inputs, train_labels: batch_labels}\n",
    "\n",
    "    # We perform one update step by evaluating the optimizer op (including it\n",
    "    # in the list of returned values for session.run()\n",
    "    _, loss_val = session.run([optimizer, loss], feed_dict=feed_dict)\n",
    "    average_loss += loss_val\n",
    "\n",
    "    if step % 2000 == 0:\n",
    "      if step > 0:\n",
    "        average_loss /= 2000\n",
    "      # The average loss is an estimate of the loss over the last 2000 batches.\n",
    "      print(\"Average loss at step \", step, \": \", average_loss)\n",
    "      average_loss = 0\n",
    "\n",
    "    # Note that this is expensive (~20% slowdown if computed every 500 steps)\n",
    "    if step % 10000 == 0:\n",
    "      sim = similarity.eval()\n",
    "      for i in xrange(valid_size):\n",
    "        valid_word = reverse_dictionary[valid_examples[i]]\n",
    "        top_k = 8  # number of nearest neighbors\n",
    "        nearest = (-sim[i, :]).argsort()[1:top_k + 1]\n",
    "        log_str = \"Nearest to %s:\" % valid_word\n",
    "        for k in xrange(top_k):\n",
    "          close_word = reverse_dictionary[nearest[k]]\n",
    "          log_str = \"%s %s,\" % (log_str, close_word)\n",
    "        print(log_str)\n",
    "  final_embeddings = normalized_embeddings.eval()"
   ]
  },
  {
   "cell_type": "markdown",
   "metadata": {},
   "source": [
    "# Step 6: Visualize the embeddings."
   ]
  },
  {
   "cell_type": "code",
   "execution_count": 15,
   "metadata": {
    "collapsed": true
   },
   "outputs": [],
   "source": [
    "def plot_with_labels(low_dim_embs, labels, filename='tsne.png'):\n",
    "  assert low_dim_embs.shape[0] >= len(labels), \"More labels than embeddings\"\n",
    "  plt.figure(figsize=(18, 18))  # in inches\n",
    "  for i, label in enumerate(labels):\n",
    "    x, y = low_dim_embs[i, :]\n",
    "    plt.scatter(x, y)\n",
    "    plt.annotate(label,\n",
    "                 xy=(x, y),\n",
    "                 xytext=(5, 2),\n",
    "                 textcoords='offset points',\n",
    "                 ha='right',\n",
    "                 va='bottom')\n",
    "\n",
    "  plt.savefig(filename)\n",
    "\n",
    "try:\n",
    "  from sklearn.manifold import TSNE\n",
    "  import matplotlib.pyplot as plt\n",
    "\n",
    "  tsne = TSNE(perplexity=30, n_components=2, init='pca', n_iter=5000)\n",
    "  plot_only = 500\n",
    "  low_dim_embs = tsne.fit_transform(final_embeddings[:plot_only, :])\n",
    "  labels = [reverse_dictionary[i] for i in xrange(plot_only)]\n",
    "  plot_with_labels(low_dim_embs, labels)\n",
    "\n",
    "except ImportError:\n",
    "  print(\"Please install sklearn, matplotlib, and scipy to visualize embeddings.\")"
   ]
  },
  {
   "cell_type": "code",
   "execution_count": null,
   "metadata": {
    "collapsed": true
   },
   "outputs": [],
   "source": []
  }
 ],
 "metadata": {
  "kernelspec": {
   "display_name": "Python 2",
   "language": "python",
   "name": "python2"
  },
  "language_info": {
   "codemirror_mode": {
    "name": "ipython",
    "version": 2
   },
   "file_extension": ".py",
   "mimetype": "text/x-python",
   "name": "python",
   "nbconvert_exporter": "python",
   "pygments_lexer": "ipython2",
   "version": "2.7.9"
  }
 },
 "nbformat": 4,
 "nbformat_minor": 2
}
